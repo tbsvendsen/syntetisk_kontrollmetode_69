# Importer pakker
import pandas as pd
import numpy as np
from pysyncon import SyntheticControl

# Last inn datasettet
# Anta at dataene er lagret i en CSV-fil med år på radene og variabler på kolonnene
data = pd.read_csv("data.csv")

# Definer variabelnavn for dynamisk koding
land_variabel = "Land"
år_variabel = "År"
analysevariabel = "Analysevariabel_1"

# Angi syntese og kontrollvariabler
# Merk: Erstatt "Land_1" 
behandlingsland = "Land_1"
før_behandlingsår = 2010  # Endre til riktig behandlingsår
etter_behandlingsår = 2011  # Endre til første året etter behandling

# Filtrer data for treatment-land og år
df_behandling = data[(data[land_variabel] == behandlingsland) & (data[år_variabel] < etter_behandlingsår)]
df_kontroll = data[(data[land_variabel] != behandlingsland)]

# Forbered data for syntetisk kontrollanalyse
# Vi definerer df for treatment og kontroll for å estimere syntetisk kontroll
X0 = df_kontroll.pivot(index=år_variabel, columns=land_variabel, values=analysevariabel)
X1 = df_behandling[analysevariabel].values.reshape(-1, 1)
y = df_behandling[år_variabel].values

#  syntetisk kontrollmodell
syntetisk_kontroll = SyntheticControl(X1, X0, y)
syntetisk_kontroll.fit()

# Prediksjoner for treatment-enhet med syntetisk kontroll
syntetisk_resultat = syntetisk_kontroll.predict()

# Visualiser resultatene
import matplotlib.pyplot as plt

plt.figure(figsize=(10, 6))
plt.plot(y, X1, label="treatment_enhet (Land_1)", color="blue")
plt.plot(y, syntetisk_resultat, label="Syntetisk kontroll", color="red", linestyle="--")
plt.axvline(x=før_behandlingsår, color="black", linestyle=":", label="Behandlingsstart")
plt.xlabel("År")
plt.ylabel("Analysevariabel_1")
plt.title("Syntetisk kontrollanalyse av Analysevariabel_1 for Land_1")
plt.legend()
plt.show()

# Beregn og vis gapet mellom treatment_enhet og syntetisk kontroll
gap = X1 - syntetisk_resultat
plt.figure(figsize=(10, 6))
plt.plot(y, gap, label="Forskjell mellom treatment_enhet og syntetisk kontroll", color="purple")
plt.axvline(x=før_behandlingsår, color="black", linestyle=":", label="Behandlingsstart")
plt.xlabel("År")
plt.ylabel("Forskjell i Analysevariabel_1")
plt.title("Forskjell mellom treatment_enhet (Land_1) og syntetisk kontroll")
plt.legend()
plt.show()

# Beregn RMSPE før og etter behandling for å evaluere modellens nøyaktighet
rmspe_før = np.sqrt(np.mean((X1[y < før_behandlingsår] - syntetisk_resultat[y < før_behandlingsår])**2))
rmspe_etter = np.sqrt(np.mean((X1[y >= før_behandlingsår] - syntetisk_resultat[y >= før_behandlingsår])**2))

print("RMSPE før behandling:", rmspe_før)
print("RMSPE etter behandling:", rmspe_etter)
